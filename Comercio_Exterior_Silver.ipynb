{
 "cells": [
  {
   "cell_type": "markdown",
   "metadata": {
    "application/vnd.databricks.v1+cell": {
     "cellMetadata": {
      "byteLimit": 2048000,
      "rowLimit": 10000
     },
     "inputWidgets": {},
     "nuid": "d40e5854-faec-40b9-b138-94f5be927df2",
     "showTitle": false,
     "tableResultSettingsMap": {},
     "title": ""
    }
   },
   "source": [
    "## **Camada Silver**\n",
    "Nesta camada, verifiquei valores nulos e duplicatas, padronizei os nomes das colunas e, ao final, uni as bases de exportação e importação, salvando o resultado no **Delta Lake**.\n"
   ]
  },
  {
   "cell_type": "code",
   "execution_count": 0,
   "metadata": {
    "application/vnd.databricks.v1+cell": {
     "cellMetadata": {
      "byteLimit": 2048000,
      "rowLimit": 10000
     },
     "inputWidgets": {},
     "nuid": "99f8fd2d-a6be-4480-ab7d-4d8b5c0892a0",
     "showTitle": false,
     "tableResultSettingsMap": {},
     "title": ""
    }
   },
   "outputs": [],
   "source": [
    "from pyspark.sql.functions import col, sum "
   ]
  },
  {
   "cell_type": "code",
   "execution_count": 0,
   "metadata": {
    "application/vnd.databricks.v1+cell": {
     "cellMetadata": {
      "byteLimit": 2048000,
      "rowLimit": 10000
     },
     "inputWidgets": {},
     "nuid": "34ea1639-5162-4523-b4df-ae95f9501c4a",
     "showTitle": false,
     "tableResultSettingsMap": {},
     "title": ""
    }
   },
   "outputs": [],
   "source": [
    "spark.sql(\"\"\"show tables  in bronze \"\"\").show() \n"
   ]
  },
  {
   "cell_type": "code",
   "execution_count": 0,
   "metadata": {
    "application/vnd.databricks.v1+cell": {
     "cellMetadata": {
      "byteLimit": 2048000,
      "rowLimit": 10000
     },
     "inputWidgets": {},
     "nuid": "31d28020-594a-4f43-bff2-d77aaab9773a",
     "showTitle": false,
     "tableResultSettingsMap": {},
     "title": ""
    }
   },
   "outputs": [],
   "source": [
    "# Path dos dados camada Bronze\n",
    "path_exp24 = 'dbk_brigadeiro.bronze.tb_importacao25'\n",
    "path_exp25 = 'dbk_brigadeiro.bronze.tb_exportacao25'\n",
    "\n",
    "path_imp24  = 'dbk_brigadeiro.bronze.tb_importacao24'\n",
    "path_imp25 = 'dbk_brigadeiro.bronze.tb_importacao25'\n",
    "\n",
    "path_produtos = 'dbk_brigadeiro.bronze.tb_produtos'\n",
    "path_bloco =   'dbk_brigadeiro.bronze.tb_blocoeconomico'\n",
    "path_paises = 'dbk_brigadeiro.bronze.tb_paises'\n",
    "path_municipios = 'dbk_brigadeiro.bronze.tb_municipios'\n",
    "path_urf = 'dbk_brigadeiro.bronze.tb_urf'\n",
    "path_via = 'dbk_brigadeiro.bronze.tb_via'"
   ]
  },
  {
   "cell_type": "code",
   "execution_count": 0,
   "metadata": {
    "application/vnd.databricks.v1+cell": {
     "cellMetadata": {
      "byteLimit": 2048000,
      "rowLimit": 10000
     },
     "inputWidgets": {},
     "nuid": "5c5d1675-9bd3-49b8-b270-925e2d932a27",
     "showTitle": false,
     "tableResultSettingsMap": {},
     "title": ""
    }
   },
   "outputs": [],
   "source": [
    "tb_exportacao24 = spark.read.table(path_exp24)\n",
    "tb_exportacao25 = spark.read.table(path_exp25)\n",
    "\n",
    "tb_importacao24 = spark.read.table(path_imp24)\n",
    "tb_importacao25 = spark.read.table(path_imp25)\n"
   ]
  },
  {
   "cell_type": "code",
   "execution_count": 0,
   "metadata": {
    "application/vnd.databricks.v1+cell": {
     "cellMetadata": {
      "byteLimit": 2048000,
      "rowLimit": 10000
     },
     "inputWidgets": {},
     "nuid": "d9433d9e-08db-4f2c-b529-a3ca68f1597f",
     "showTitle": false,
     "tableResultSettingsMap": {},
     "title": ""
    }
   },
   "outputs": [],
   "source": [
    "tb_bloco = spark.read.table(path_bloco)\n",
    "tb_paises = spark.read.table(path_paises)\n",
    "tb_municipio = spark.read.table(path_municipios)\n",
    "tb_produtos = spark.read.table(path_produtos)\n",
    "tb_urf = spark.read.table(path_urf)\n",
    "tb_via = spark.read.table(path_via)"
   ]
  },
  {
   "cell_type": "markdown",
   "metadata": {
    "application/vnd.databricks.v1+cell": {
     "cellMetadata": {
      "byteLimit": 2048000,
      "rowLimit": 10000
     },
     "inputWidgets": {},
     "nuid": "51a0c5bc-3791-409d-915b-a5617e82c57e",
     "showTitle": false,
     "tableResultSettingsMap": {},
     "title": ""
    }
   },
   "source": [
    "**Limpeza dos dados**"
   ]
  },
  {
   "cell_type": "code",
   "execution_count": 0,
   "metadata": {
    "application/vnd.databricks.v1+cell": {
     "cellMetadata": {
      "byteLimit": 2048000,
      "rowLimit": 10000
     },
     "inputWidgets": {},
     "nuid": "c1339fd7-324c-49fb-8bfc-c0d1e7fb469c",
     "showTitle": false,
     "tableResultSettingsMap": {},
     "title": ""
    }
   },
   "outputs": [],
   "source": [
    "display(tb_importacao24.limit(2))"
   ]
  },
  {
   "cell_type": "code",
   "execution_count": 0,
   "metadata": {
    "application/vnd.databricks.v1+cell": {
     "cellMetadata": {
      "byteLimit": 2048000,
      "rowLimit": 10000
     },
     "inputWidgets": {},
     "nuid": "a74a227c-4bfb-4b2a-b81c-2081ea820476",
     "showTitle": false,
     "tableResultSettingsMap": {
      "0": {
       "dataGridStateBlob": "{\"version\":1,\"tableState\":{\"columnPinning\":{\"left\":[\"#row_number#\"],\"right\":[]},\"columnSizing\":{},\"columnVisibility\":{}},\"settings\":{\"columns\":{}},\"syncTimestamp\":1755884352208}",
       "filterBlob": null,
       "queryPlanFiltersBlob": null,
       "tableResultIndex": 0
      }
     },
     "title": ""
    }
   },
   "outputs": [],
   "source": [
    "display(tb_exportacao24.limit(2))"
   ]
  },
  {
   "cell_type": "markdown",
   "metadata": {
    "application/vnd.databricks.v1+cell": {
     "cellMetadata": {
      "byteLimit": 2048000,
      "rowLimit": 10000
     },
     "inputWidgets": {},
     "nuid": "cec51abb-6a91-4e86-b26c-f71f8355a612",
     "showTitle": false,
     "tableResultSettingsMap": {},
     "title": ""
    }
   },
   "source": [
    "**Verificar Nulos**"
   ]
  },
  {
   "cell_type": "code",
   "execution_count": 0,
   "metadata": {
    "application/vnd.databricks.v1+cell": {
     "cellMetadata": {
      "byteLimit": 2048000,
      "rowLimit": 10000
     },
     "inputWidgets": {},
     "nuid": "bc624603-46f5-406a-bae6-300ba78856d1",
     "showTitle": false,
     "tableResultSettingsMap": {},
     "title": ""
    }
   },
   "outputs": [],
   "source": [
    "# spark.sql(\"\"\"show catalogs \"\"\").show()\n",
    "\n",
    "# spark.sql(\"\"\"describe CATALOG  dbk_brigadeiro \"\"\").show()\n",
    "\n",
    "spark.sql(\"\"\"show tables  in bronze \"\"\").show() \n"
   ]
  },
  {
   "cell_type": "code",
   "execution_count": 0,
   "metadata": {
    "application/vnd.databricks.v1+cell": {
     "cellMetadata": {
      "byteLimit": 2048000,
      "rowLimit": 10000
     },
     "inputWidgets": {},
     "nuid": "68d81bbe-e8d7-452a-b2f5-639895be3ffa",
     "showTitle": false,
     "tableResultSettingsMap": {},
     "title": ""
    }
   },
   "outputs": [],
   "source": [
    "display(tb_exportacao24.select([sum(col(c).isNull().cast(\"int\")).alias(c) for c in tb_exportacao24.columns]).show())"
   ]
  },
  {
   "cell_type": "code",
   "execution_count": 0,
   "metadata": {
    "application/vnd.databricks.v1+cell": {
     "cellMetadata": {
      "byteLimit": 2048000,
      "rowLimit": 10000
     },
     "inputWidgets": {},
     "nuid": "5b5c6b63-2258-413c-838f-a4d627c710a5",
     "showTitle": false,
     "tableResultSettingsMap": {},
     "title": ""
    }
   },
   "outputs": [],
   "source": [
    "# display(tb_exportacao25.select([sum(col(c).isNull().cast(\"int\")).alias(c) for c in tb_exportacao25.columns]).show())"
   ]
  },
  {
   "cell_type": "code",
   "execution_count": 0,
   "metadata": {
    "application/vnd.databricks.v1+cell": {
     "cellMetadata": {
      "byteLimit": 2048000,
      "rowLimit": 10000
     },
     "inputWidgets": {},
     "nuid": "0a520f44-69e8-45ea-9170-f2d4d60280f2",
     "showTitle": false,
     "tableResultSettingsMap": {},
     "title": ""
    }
   },
   "outputs": [],
   "source": [
    "# display(tb_importacao24.select([sum(col(c).isNull().cast(\"int\")).alias(c) for c in tb_importacao24.columns]).show())"
   ]
  },
  {
   "cell_type": "code",
   "execution_count": 0,
   "metadata": {
    "application/vnd.databricks.v1+cell": {
     "cellMetadata": {
      "byteLimit": 2048000,
      "rowLimit": 10000
     },
     "inputWidgets": {},
     "nuid": "c5977cee-8468-48ff-9673-b583a62670d5",
     "showTitle": false,
     "tableResultSettingsMap": {},
     "title": ""
    }
   },
   "outputs": [],
   "source": [
    "# display(tb_importacao25.select([sum(col(c).isNull().cast(\"int\")).alias(c) for c in tb_importacao25.columns]).show())"
   ]
  },
  {
   "cell_type": "markdown",
   "metadata": {
    "application/vnd.databricks.v1+cell": {
     "cellMetadata": {
      "byteLimit": 2048000,
      "rowLimit": 10000
     },
     "inputWidgets": {},
     "nuid": "9e399bdc-b4a9-46e0-b729-47dcf4ed5f98",
     "showTitle": false,
     "tableResultSettingsMap": {},
     "title": ""
    }
   },
   "source": [
    "**Padronizar nome de colunas**"
   ]
  },
  {
   "cell_type": "code",
   "execution_count": 0,
   "metadata": {
    "application/vnd.databricks.v1+cell": {
     "cellMetadata": {
      "byteLimit": 2048000,
      "rowLimit": 10000
     },
     "inputWidgets": {},
     "nuid": "ae64b7ce-e7f1-4b5b-9274-526f517ac5d6",
     "showTitle": false,
     "tableResultSettingsMap": {},
     "title": ""
    }
   },
   "outputs": [],
   "source": [
    "# tb_bloco.show(2)"
   ]
  },
  {
   "cell_type": "code",
   "execution_count": 0,
   "metadata": {
    "application/vnd.databricks.v1+cell": {
     "cellMetadata": {
      "byteLimit": 2048000,
      "rowLimit": 10000
     },
     "inputWidgets": {},
     "nuid": "c1c8b40f-bbf2-4992-b7ba-8de1cadd6ba1",
     "showTitle": false,
     "tableResultSettingsMap": {},
     "title": ""
    }
   },
   "outputs": [],
   "source": [
    "# tb_via.show(2)"
   ]
  },
  {
   "cell_type": "code",
   "execution_count": 0,
   "metadata": {
    "application/vnd.databricks.v1+cell": {
     "cellMetadata": {
      "byteLimit": 2048000,
      "rowLimit": 10000
     },
     "inputWidgets": {},
     "nuid": "df3d6b21-f4e5-448d-bc73-a00e142cfc6d",
     "showTitle": false,
     "tableResultSettingsMap": {},
     "title": ""
    }
   },
   "outputs": [],
   "source": [
    "# display(tb_produtos)"
   ]
  },
  {
   "cell_type": "code",
   "execution_count": 0,
   "metadata": {
    "application/vnd.databricks.v1+cell": {
     "cellMetadata": {
      "byteLimit": 2048000,
      "rowLimit": 10000
     },
     "inputWidgets": {},
     "nuid": "7190ebdd-1c8b-44b8-b8f3-f368e7572bce",
     "showTitle": false,
     "tableResultSettingsMap": {},
     "title": ""
    }
   },
   "outputs": [],
   "source": [
    "tb_via  = (tb_via.withColumnRenamed('CO_VIA', 'COD_VIA')\n",
    "        .withColumnRenamed('NO_VIA', 'VIA')\n",
    ")"
   ]
  },
  {
   "cell_type": "code",
   "execution_count": 0,
   "metadata": {
    "application/vnd.databricks.v1+cell": {
     "cellMetadata": {
      "byteLimit": 2048000,
      "rowLimit": 10000
     },
     "inputWidgets": {},
     "nuid": "d2383248-e610-4aa2-8d51-4bf1c0356112",
     "showTitle": false,
     "tableResultSettingsMap": {},
     "title": ""
    }
   },
   "outputs": [],
   "source": [
    "tb_bloco = tb_bloco.drop('NO_BLOCO_ING', 'NO_BLOCO_ESP')\n",
    "tb_bloco = (tb_bloco.withColumnRenamed('CO_PAIS', 'COD_PAIS')\n",
    "        .withColumnRenamed('CO_BLOCO', 'COD_BLOCO')\n",
    "        .withColumnRenamed('NO_BLOCO', 'BLOCO')\n",
    "        )"
   ]
  },
  {
   "cell_type": "code",
   "execution_count": 0,
   "metadata": {
    "application/vnd.databricks.v1+cell": {
     "cellMetadata": {
      "byteLimit": 2048000,
      "rowLimit": 10000
     },
     "inputWidgets": {},
     "nuid": "ab271793-0140-42b7-9bce-2205d8d2998b",
     "showTitle": false,
     "tableResultSettingsMap": {},
     "title": ""
    }
   },
   "outputs": [],
   "source": [
    "tb_paises = tb_paises.drop('CO_PAIS_ISON3', 'NO_PAIS_ING', 'NO_PAIS_ESP')\n",
    "tb_paises = (\n",
    "    tb_paises.withColumnRenamed('CO_PAIS', 'COD_PAIS')\n",
    "    .withColumnRenamed('CO_PAIS_ISOA3', 'COD_PAIS_ISOA3')\n",
    "    .withColumnRenamed('NO_PAIS', 'PAIS')\n",
    ")"
   ]
  },
  {
   "cell_type": "code",
   "execution_count": 0,
   "metadata": {
    "application/vnd.databricks.v1+cell": {
     "cellMetadata": {
      "byteLimit": 2048000,
      "rowLimit": 10000
     },
     "inputWidgets": {},
     "nuid": "2c73eeaa-1f91-4fed-8d4d-5be2bfc07807",
     "showTitle": false,
     "tableResultSettingsMap": {},
     "title": ""
    }
   },
   "outputs": [],
   "source": [
    "tb_municipio = tb_municipio.drop('NO_MUN_MIN', 'CO_MUN_GEO')\n",
    "tb_municipio = (\n",
    "    tb_municipio.withColumnRenamed('NO_MUN', 'CIDADE')\n",
    "    .withColumnRenamed('SG_UF', 'UF')\n",
    ")"
   ]
  },
  {
   "cell_type": "code",
   "execution_count": 0,
   "metadata": {
    "application/vnd.databricks.v1+cell": {
     "cellMetadata": {
      "byteLimit": 2048000,
      "rowLimit": 10000
     },
     "inputWidgets": {},
     "nuid": "5044d61a-36e6-4f60-84a5-a17769fe93cf",
     "showTitle": false,
     "tableResultSettingsMap": {},
     "title": ""
    }
   },
   "outputs": [],
   "source": [
    "tb_municipio.show(2)"
   ]
  },
  {
   "cell_type": "code",
   "execution_count": 0,
   "metadata": {
    "application/vnd.databricks.v1+cell": {
     "cellMetadata": {
      "byteLimit": 2048000,
      "rowLimit": 10000
     },
     "inputWidgets": {},
     "nuid": "b0d74189-5d6c-4314-b24d-3400b8cd3371",
     "showTitle": false,
     "tableResultSettingsMap": {},
     "title": ""
    }
   },
   "outputs": [],
   "source": [
    "tb_produtos = tb_produtos.drop('CO_SH6', 'CO_PPE','CO_PPI', 'CO_FAT_AGREG', 'CO_CUCI_ITEM', 'CO_CGCE_N3', 'CO_SIIT', 'CO_ISIC_CLASSE',\n",
    "                               'CO_EXP_SUBSET', 'NO_NCM_ESP', 'NO_NCM_ING')\n",
    "tb_produtos = (\n",
    "    tb_produtos.withColumnRenamed('CO_NCM', 'COD_PRODUTO')\n",
    "    .withColumnRenamed('CO_UNID', 'COD_UNID')\n",
    "    .withColumnRenamed('NO_NCM_POR', 'PRODUTO')\n",
    ")\n",
    "\n",
    "tb_produtos = tb_produtos.withColumn('COD_PRODUTO', col('COD_PRODUTO').cast('int'))"
   ]
  },
  {
   "cell_type": "code",
   "execution_count": 0,
   "metadata": {
    "application/vnd.databricks.v1+cell": {
     "cellMetadata": {
      "byteLimit": 2048000,
      "rowLimit": 10000
     },
     "inputWidgets": {},
     "nuid": "44ba20c6-94d3-43ae-93d6-e7eb7527dc5a",
     "showTitle": false,
     "tableResultSettingsMap": {},
     "title": ""
    }
   },
   "outputs": [],
   "source": [
    "tb_urf = (\n",
    "    tb_urf.withColumnRenamed('CO_URF', 'COD_URF')\n",
    "    .withColumnRenamed('NO_URF', 'URF')\n",
    ")"
   ]
  },
  {
   "cell_type": "code",
   "execution_count": 0,
   "metadata": {
    "application/vnd.databricks.v1+cell": {
     "cellMetadata": {
      "byteLimit": 2048000,
      "rowLimit": 10000
     },
     "inputWidgets": {},
     "nuid": "53a777bc-408d-48c6-91cd-6d732c48bf26",
     "showTitle": false,
     "tableResultSettingsMap": {},
     "title": ""
    }
   },
   "outputs": [],
   "source": [
    "def renomear_columns_EXP(tb_exportacao24, tb_exportacao25):\n",
    "        colunas_EXP = ['COD_ANO','COD_MES', 'COD_PRODUTO','COD_UNID','COD_PAIS','UF_O_PRODUTO','COD_VIA',\n",
    "                 'COD_URF','QTD_ESTAT','KG_LIQUIDO','VL_FOB', 'VL_FRETE', 'VL_SEGURO']\n",
    "\n",
    "        coluna_EXP_ANT = ['CO_ANO','CO_MES', 'CO_NCM', 'CO_UNID','CO_PAIS', 'SG_UF_NCM', 'CO_VIA',\n",
    "                      'CO_URF', 'QT_ESTAT', 'KG_LIQUIDO', 'VL_FOB', 'VL_FRETE','VL_SEGURO']\n",
    "   \n",
    "        for i in range(len(tb_exportacao24.columns)):\n",
    "            tb_exportacao24 = tb_exportacao24.withColumnRenamed(coluna_EXP_ANT[i], colunas_EXP[i])\n",
    "            tb_exportacao25 = tb_exportacao25.withColumnRenamed(coluna_EXP_ANT[i], colunas_EXP[i])\n",
    "\n",
    "        return tb_exportacao24, tb_exportacao25\n",
    "        \n"
   ]
  },
  {
   "cell_type": "code",
   "execution_count": 0,
   "metadata": {
    "application/vnd.databricks.v1+cell": {
     "cellMetadata": {
      "byteLimit": 2048000,
      "rowLimit": 10000
     },
     "inputWidgets": {},
     "nuid": "6fe35656-f14e-49ba-95a8-2eb734e5d139",
     "showTitle": false,
     "tableResultSettingsMap": {},
     "title": ""
    }
   },
   "outputs": [],
   "source": [
    "def renomear_columns_IMP(tb_importacao24, tb_importacao25):\n",
    "\n",
    "    colunas_IMP = ['COD_ANO','COD_MES','COD_PRODUTO','COD_UNID','COD_PAIS', 'UF_O_PRODUTO', 'COD_VIA',\n",
    "                        'COD_URF', 'QTD_ESTAT', 'KG_LIQUIDO', 'VL_FOB', 'VL_FRETE', 'VL_SEGURO']\n",
    "    \n",
    "    coluna_IMP_ANT = ['CO_ANO','CO_MES','CO_NCM','CO_UNID','CO_PAIS', 'SG_UF_NCM', 'CO_VIA',\n",
    "                        'CO_URF', 'QT_ESTAT', 'KG_LIQUIDO', 'VL_FOB', 'VL_FRETE', 'VL_SEGURO']\n",
    "     \n",
    "\n",
    "    for i in range(len(tb_importacao24.columns)):\n",
    "        tb_importacao24 = tb_importacao24.withColumnRenamed(coluna_IMP_ANT[i], colunas_IMP[i])\n",
    "        tb_importacao25 = tb_importacao25.withColumnRenamed(coluna_IMP_ANT[i], colunas_IMP[i])\n",
    "\n",
    "    return tb_importacao24, tb_importacao25"
   ]
  },
  {
   "cell_type": "code",
   "execution_count": 0,
   "metadata": {
    "application/vnd.databricks.v1+cell": {
     "cellMetadata": {
      "byteLimit": 2048000,
      "rowLimit": 10000
     },
     "inputWidgets": {},
     "nuid": "4487c537-cf6a-40d0-91b2-b4ee303e76f8",
     "showTitle": false,
     "tableResultSettingsMap": {},
     "title": ""
    }
   },
   "outputs": [],
   "source": [
    "tb_exportacao24, tb_exportacao25 = renomear_columns_EXP(tb_exportacao24, tb_exportacao25)"
   ]
  },
  {
   "cell_type": "code",
   "execution_count": 0,
   "metadata": {
    "application/vnd.databricks.v1+cell": {
     "cellMetadata": {
      "byteLimit": 2048000,
      "rowLimit": 10000
     },
     "inputWidgets": {},
     "nuid": "669ec177-3151-4bff-b62c-c6cee6e4719d",
     "showTitle": false,
     "tableResultSettingsMap": {},
     "title": ""
    }
   },
   "outputs": [],
   "source": [
    "tb_importacao24, tb_importacao25 =renomear_columns_IMP(tb_importacao24, tb_importacao25)"
   ]
  },
  {
   "cell_type": "code",
   "execution_count": 0,
   "metadata": {
    "application/vnd.databricks.v1+cell": {
     "cellMetadata": {
      "byteLimit": 2048000,
      "rowLimit": 10000
     },
     "inputWidgets": {},
     "nuid": "f961fe85-cff3-497d-81a8-8ccd9c09c709",
     "showTitle": false,
     "tableResultSettingsMap": {},
     "title": ""
    }
   },
   "outputs": [],
   "source": [
    "tb_exportacao24 = tb_exportacao24.dropDuplicates()\n",
    "tb_exportacao25 = tb_exportacao25.dropDuplicates()\n",
    "\n",
    "tb_importacao24 = tb_importacao24.dropDuplicates()\n",
    "tb_importacao25 = tb_importacao25.dropDuplicates()"
   ]
  },
  {
   "cell_type": "markdown",
   "metadata": {
    "application/vnd.databricks.v1+cell": {
     "cellMetadata": {
      "byteLimit": 2048000,
      "rowLimit": 10000
     },
     "inputWidgets": {},
     "nuid": "5b2e0b30-34f4-4b75-8284-02ad4deea792",
     "showTitle": false,
     "tableResultSettingsMap": {},
     "title": ""
    }
   },
   "source": [
    "**Salvando no Delta Lake**"
   ]
  },
  {
   "cell_type": "code",
   "execution_count": 0,
   "metadata": {
    "application/vnd.databricks.v1+cell": {
     "cellMetadata": {
      "byteLimit": 2048000,
      "rowLimit": 10000
     },
     "inputWidgets": {},
     "nuid": "b45dd925-3da0-42cc-9c29-d2705740dac5",
     "showTitle": false,
     "tableResultSettingsMap": {},
     "title": ""
    }
   },
   "outputs": [],
   "source": [
    "(tb_importacao24.repartition(8).write.format('delta').mode('overwrite')\n",
    " .saveAsTable('dbk_brigadeiro.silver.tb_importacao24')\n",
    ")\n",
    "\n",
    "(tb_importacao25.repartition(8).write.format('delta').mode('overwrite')\n",
    " .saveAsTable('dbk_brigadeiro.silver.tb_importacao25'))"
   ]
  },
  {
   "cell_type": "code",
   "execution_count": 0,
   "metadata": {
    "application/vnd.databricks.v1+cell": {
     "cellMetadata": {
      "byteLimit": 2048000,
      "rowLimit": 10000
     },
     "inputWidgets": {},
     "nuid": "2be7b699-e00e-4079-919d-e06d4d6e1014",
     "showTitle": false,
     "tableResultSettingsMap": {},
     "title": ""
    }
   },
   "outputs": [],
   "source": [
    "(tb_exportacao24.repartition(8).write.format('delta').mode('overwrite')\n",
    " .saveAsTable('dbk_brigadeiro.silver.tb_exportacao24'))\n",
    "\n",
    "(tb_exportacao25.repartition(8).write.format('delta').mode('overwrite')\n",
    " .saveAsTable('dbk_brigadeiro.silver.tb_exportacao25'))"
   ]
  },
  {
   "cell_type": "code",
   "execution_count": 0,
   "metadata": {
    "application/vnd.databricks.v1+cell": {
     "cellMetadata": {
      "byteLimit": 2048000,
      "rowLimit": 10000
     },
     "inputWidgets": {},
     "nuid": "d22310d4-585a-4a49-8115-c64f6b48b858",
     "showTitle": false,
     "tableResultSettingsMap": {},
     "title": ""
    }
   },
   "outputs": [],
   "source": [
    "tb_bloco.write.format('delta').mode('overwrite').saveAsTable('dbk_brigadeiro.silver.tb_bloco')\n",
    "tb_municipio.write.format('delta').mode('overwrite').saveAsTable('dbk_brigadeiro.silver.tb_municipio')\n",
    "tb_paises.write.format('delta').mode('overwrite').saveAsTable('dbk_brigadeiro.silver.tb_paise')\n",
    "tb_produtos.write.format('delta').mode('overwrite').saveAsTable('dbk_brigadeiro.silver.tb_produto')\n",
    "tb_urf.write.format('delta').mode('overwrite').saveAsTable('dbk_brigadeiro.silver.tb_urf')\n",
    "tb_via.write.format('delta').mode('overwrite').saveAsTable('dbk_brigadeiro.silver.tb_via')"
   ]
  },
  {
   "cell_type": "code",
   "execution_count": 0,
   "metadata": {
    "application/vnd.databricks.v1+cell": {
     "cellMetadata": {
      "byteLimit": 2048000,
      "implicitDf": true,
      "rowLimit": 10000
     },
     "inputWidgets": {},
     "nuid": "db1f372b-a007-45b6-b9c0-324677b3a9d0",
     "showTitle": false,
     "tableResultSettingsMap": {},
     "title": ""
    }
   },
   "outputs": [],
   "source": [
    "%sql\n",
    "-- show tables in etl_comercioexterior"
   ]
  },
  {
   "cell_type": "code",
   "execution_count": 0,
   "metadata": {
    "application/vnd.databricks.v1+cell": {
     "cellMetadata": {},
     "inputWidgets": {},
     "nuid": "eeb397bd-2f70-4c8a-b5b6-533c8be73c45",
     "showTitle": false,
     "tableResultSettingsMap": {},
     "title": ""
    }
   },
   "outputs": [],
   "source": []
  },
  {
   "cell_type": "code",
   "execution_count": 0,
   "metadata": {
    "application/vnd.databricks.v1+cell": {
     "cellMetadata": {},
     "inputWidgets": {},
     "nuid": "9c9c594a-4d0f-4f12-9088-fe0b2ccd52c8",
     "showTitle": false,
     "tableResultSettingsMap": {},
     "title": ""
    }
   },
   "outputs": [],
   "source": []
  }
 ],
 "metadata": {
  "application/vnd.databricks.v1+notebook": {
   "computePreferences": null,
   "dashboards": [],
   "environmentMetadata": {
    "base_environment": "",
    "environment_version": "1"
   },
   "inputWidgetPreferences": null,
   "language": "python",
   "notebookMetadata": {
    "mostRecentlyExecutedCommandWithImplicitDF": {
     "commandId": -1,
     "dataframes": [
      "_sqldf"
     ]
    },
    "pythonIndentUnit": 4
   },
   "notebookName": "Comercio_Exterior_Silver",
   "widgets": {}
  },
  "language_info": {
   "name": "python"
  }
 },
 "nbformat": 4,
 "nbformat_minor": 0
}
