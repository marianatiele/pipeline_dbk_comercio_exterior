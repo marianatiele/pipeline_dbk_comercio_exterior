{
 "cells": [
  {
   "cell_type": "markdown",
   "metadata": {
    "application/vnd.databricks.v1+cell": {
     "cellMetadata": {},
     "inputWidgets": {},
     "nuid": "70bced31-81ff-41f2-b1b8-8720f6b58b3c",
     "showTitle": false,
     "tableResultSettingsMap": {},
     "title": ""
    }
   },
   "source": [
    "# Comercio Exterior: Importação e Exportação\n",
    "[Base de Dados](https://www.gov.br/mdic/pt-br/assuntos/comercio-exterior/estatisticas/base-de-dados-bruta)"
   ]
  },
  {
   "cell_type": "markdown",
   "metadata": {
    "application/vnd.databricks.v1+cell": {
     "cellMetadata": {},
     "inputWidgets": {},
     "nuid": "fba82c97-9323-49c9-a349-69f8195458e8",
     "showTitle": false,
     "tableResultSettingsMap": {},
     "title": ""
    }
   },
   "source": [
    "## **Camada Bronze**\n",
    "\n",
    "Os dados estão no seu estado bruto em CSV e nesta camada vou transformar para  Delta Lake e disponibilizar para a camada Silver. "
   ]
  },
  {
   "cell_type": "code",
   "execution_count": 0,
   "metadata": {
    "application/vnd.databricks.v1+cell": {
     "cellMetadata": {
      "byteLimit": 2048000,
      "rowLimit": 10000
     },
     "inputWidgets": {},
     "nuid": "6000196e-00cd-47f6-911e-d764a6205f13",
     "showTitle": false,
     "tableResultSettingsMap": {},
     "title": ""
    }
   },
   "outputs": [],
   "source": [
    "\n",
    "display(dbutils.fs.ls('/Volumes/dbk_brigadeiro/bronze/vm_bronze'))"
   ]
  },
  {
   "cell_type": "code",
   "execution_count": 0,
   "metadata": {
    "application/vnd.databricks.v1+cell": {
     "cellMetadata": {
      "byteLimit": 2048000,
      "rowLimit": 10000
     },
     "inputWidgets": {},
     "nuid": "89ca71a0-bb1f-48ba-a533-f8f51678624e",
     "showTitle": false,
     "tableResultSettingsMap": {},
     "title": ""
    }
   },
   "outputs": [],
   "source": [
    "path_exp24 = 'dbfs:/Volumes/dbk_brigadeiro/bronze/vm_bronze/EXP_2024.csv'\n",
    "path_exp25  = 'dbfs:/Volumes/dbk_brigadeiro/bronze/vm_bronze/EXP_2025.csv'\n",
    "path_imp24 = 'dbfs:/Volumes/dbk_brigadeiro/bronze/vm_bronze/IMP_2024.csv'\n",
    "path_imp25 = 'dbfs:/Volumes/dbk_brigadeiro/bronze/vm_bronze/IMP_2025.csv'\n",
    "\n",
    "path_produtos = 'dbfs:/Volumes/dbk_brigadeiro/bronze/vm_bronze/NCM_Produtos.csv'\n",
    "path_paises = 'dbfs:/Volumes/dbk_brigadeiro/bronze/vm_bronze/PAIS.csv'\n",
    "path_bloco = 'dbfs:/Volumes/dbk_brigadeiro/bronze/vm_bronze/PAIS_BLOCO.csv'\n",
    "path_mun = 'dbfs:/Volumes/dbk_brigadeiro/bronze/vm_bronze/UF_MUN.csv'\n",
    "path_urf = 'dbfs:/Volumes/dbk_brigadeiro/bronze/vm_bronze/URF.csv'\n",
    "path_via = 'dbfs:/Volumes/dbk_brigadeiro/bronze/vm_bronze/VIA.csv'\n"
   ]
  },
  {
   "cell_type": "code",
   "execution_count": 0,
   "metadata": {
    "application/vnd.databricks.v1+cell": {
     "cellMetadata": {
      "byteLimit": 2048000,
      "rowLimit": 10000
     },
     "inputWidgets": {},
     "nuid": "95bb11a4-ea82-419e-8481-2326a2d45bd9",
     "showTitle": false,
     "tableResultSettingsMap": {},
     "title": ""
    }
   },
   "outputs": [],
   "source": [
    "exp_24 = spark.read.csv(path_exp24, sep=';', inferSchema=True, header=True).repartition(50)\n",
    "exp_25 = spark.read.csv(path_exp25, sep=';', inferSchema=True, header=True).repartition(32)\n",
    "\n",
    "imp_24 = spark.read.csv(path_imp24, sep=';', inferSchema=True, header=True).repartition(50)\n",
    "imp_25 = spark.read.csv(path_imp25, sep=';', inferSchema=True, header=True).repartition(32)"
   ]
  },
  {
   "cell_type": "code",
   "execution_count": 0,
   "metadata": {
    "application/vnd.databricks.v1+cell": {
     "cellMetadata": {
      "byteLimit": 2048000,
      "rowLimit": 10000
     },
     "inputWidgets": {},
     "nuid": "034cb332-11e1-4f10-a138-258838b395ce",
     "showTitle": false,
     "tableResultSettingsMap": {},
     "title": ""
    }
   },
   "outputs": [],
   "source": [
    "produtos = spark.read.csv(path_produtos, sep=';', inferSchema=True, header=True, \n",
    "                        encoding='ISO-8859-1')\n",
    "\n",
    "paises = spark.read.csv(path_paises, sep=';', inferSchema=True, header=True, \n",
    "                    encoding='ISO-8859-1')\n",
    "\n",
    "bloco = spark.read.csv(path_bloco, sep=';', inferSchema=True, header=True, \n",
    "                        encoding='ISO-8859-1')\n",
    "\n",
    "mun = spark.read.csv(path_mun, sep=';', inferSchema=True, header=True,\n",
    "                        encoding='ISO-8859-1')\n",
    "\n",
    "urf = spark.read.csv(path_urf, sep=';', inferSchema=True, header=True,\n",
    "                    encoding='ISO-8859-1')\n",
    "via = spark.read.csv(path_via, sep=';', inferSchema=True, header=True,\n",
    "                    encoding='ISO-8859-1')"
   ]
  },
  {
   "cell_type": "code",
   "execution_count": 0,
   "metadata": {
    "application/vnd.databricks.v1+cell": {
     "cellMetadata": {
      "byteLimit": 2048000,
      "rowLimit": 10000
     },
     "inputWidgets": {},
     "nuid": "133f3beb-c789-4d24-95e1-307b0b275904",
     "showTitle": false,
     "tableResultSettingsMap": {},
     "title": ""
    }
   },
   "outputs": [],
   "source": [
    "display(exp_24.limit(2))"
   ]
  },
  {
   "cell_type": "code",
   "execution_count": 0,
   "metadata": {
    "application/vnd.databricks.v1+cell": {
     "cellMetadata": {
      "byteLimit": 2048000,
      "rowLimit": 10000
     },
     "inputWidgets": {},
     "nuid": "545f3b5a-95a4-426e-bf57-8b836b790b6f",
     "showTitle": false,
     "tableResultSettingsMap": {},
     "title": ""
    }
   },
   "outputs": [],
   "source": [
    "display(exp_25.limit(2))"
   ]
  },
  {
   "cell_type": "code",
   "execution_count": 0,
   "metadata": {
    "application/vnd.databricks.v1+cell": {
     "cellMetadata": {
      "byteLimit": 2048000,
      "rowLimit": 10000
     },
     "inputWidgets": {},
     "nuid": "99fe109a-3c5b-42f8-8775-56b30137efbd",
     "showTitle": false,
     "tableResultSettingsMap": {},
     "title": ""
    }
   },
   "outputs": [],
   "source": [
    "display(imp_24.limit(2))"
   ]
  },
  {
   "cell_type": "code",
   "execution_count": 0,
   "metadata": {
    "application/vnd.databricks.v1+cell": {
     "cellMetadata": {
      "byteLimit": 2048000,
      "rowLimit": 10000
     },
     "inputWidgets": {},
     "nuid": "a74fcc28-2d4f-4312-b710-1118747ebe89",
     "showTitle": false,
     "tableResultSettingsMap": {},
     "title": ""
    }
   },
   "outputs": [],
   "source": [
    "display(imp_25.limit(2))"
   ]
  },
  {
   "cell_type": "code",
   "execution_count": 0,
   "metadata": {
    "application/vnd.databricks.v1+cell": {
     "cellMetadata": {
      "byteLimit": 2048000,
      "rowLimit": 10000
     },
     "inputWidgets": {},
     "nuid": "dbd9c205-680c-421f-8812-ca6fa9bc75d6",
     "showTitle": false,
     "tableResultSettingsMap": {},
     "title": ""
    }
   },
   "outputs": [],
   "source": [
    "display(produtos.limit(2))"
   ]
  },
  {
   "cell_type": "code",
   "execution_count": 0,
   "metadata": {
    "application/vnd.databricks.v1+cell": {
     "cellMetadata": {
      "byteLimit": 2048000,
      "rowLimit": 10000
     },
     "inputWidgets": {},
     "nuid": "2ccaec83-1659-4cad-8a9b-8a333b39b04e",
     "showTitle": false,
     "tableResultSettingsMap": {},
     "title": ""
    }
   },
   "outputs": [],
   "source": [
    "display(paises.limit(2))"
   ]
  },
  {
   "cell_type": "code",
   "execution_count": 0,
   "metadata": {
    "application/vnd.databricks.v1+cell": {
     "cellMetadata": {
      "byteLimit": 2048000,
      "rowLimit": 10000
     },
     "inputWidgets": {},
     "nuid": "22ac9288-a40a-4651-bef4-69001ccc8b70",
     "showTitle": false,
     "tableResultSettingsMap": {},
     "title": ""
    }
   },
   "outputs": [],
   "source": [
    "display(bloco.limit(2))"
   ]
  },
  {
   "cell_type": "code",
   "execution_count": 0,
   "metadata": {
    "application/vnd.databricks.v1+cell": {
     "cellMetadata": {
      "byteLimit": 2048000,
      "rowLimit": 10000
     },
     "inputWidgets": {},
     "nuid": "7ee63fd1-fcea-40f6-9659-0c5d834906b4",
     "showTitle": false,
     "tableResultSettingsMap": {},
     "title": ""
    }
   },
   "outputs": [],
   "source": [
    "display(mun.limit(2))"
   ]
  },
  {
   "cell_type": "code",
   "execution_count": 0,
   "metadata": {
    "application/vnd.databricks.v1+cell": {
     "cellMetadata": {
      "byteLimit": 2048000,
      "rowLimit": 10000
     },
     "inputWidgets": {},
     "nuid": "9a3038dc-5c77-4563-b63b-afd70927444f",
     "showTitle": false,
     "tableResultSettingsMap": {},
     "title": ""
    }
   },
   "outputs": [],
   "source": [
    "display(via.limit(2))"
   ]
  },
  {
   "cell_type": "code",
   "execution_count": 0,
   "metadata": {
    "application/vnd.databricks.v1+cell": {
     "cellMetadata": {
      "byteLimit": 2048000,
      "rowLimit": 10000
     },
     "inputWidgets": {},
     "nuid": "f8f90599-6f56-40fc-8f01-77c885e34ecb",
     "showTitle": false,
     "tableResultSettingsMap": {},
     "title": ""
    }
   },
   "outputs": [],
   "source": [
    "display(urf.limit(2))"
   ]
  },
  {
   "cell_type": "markdown",
   "metadata": {
    "application/vnd.databricks.v1+cell": {
     "cellMetadata": {},
     "inputWidgets": {},
     "nuid": "634561f3-39cc-4613-bfd2-3bb978123782",
     "showTitle": false,
     "tableResultSettingsMap": {},
     "title": ""
    }
   },
   "source": [
    "- Salvar os dados no **Delta Lake**"
   ]
  },
  {
   "cell_type": "code",
   "execution_count": 0,
   "metadata": {
    "application/vnd.databricks.v1+cell": {
     "cellMetadata": {
      "byteLimit": 2048000,
      "rowLimit": 10000
     },
     "inputWidgets": {},
     "nuid": "c29414f7-be4a-4fe5-a103-4926dd3f030d",
     "showTitle": false,
     "tableResultSettingsMap": {},
     "title": ""
    }
   },
   "outputs": [],
   "source": [
    "exp_24.write.format('delta').mode('overwrite').saveAsTable('dbk_brigadeiro.bronze.tb_exportacao24')\n",
    "exp_25.write.mode('overwrite').saveAsTable('dbk_brigadeiro.bronze.tb_exportacao25')"
   ]
  },
  {
   "cell_type": "code",
   "execution_count": 0,
   "metadata": {
    "application/vnd.databricks.v1+cell": {
     "cellMetadata": {
      "byteLimit": 2048000,
      "rowLimit": 10000
     },
     "inputWidgets": {},
     "nuid": "d09bd725-8fdc-4e20-97e6-8ece5c282b8f",
     "showTitle": false,
     "tableResultSettingsMap": {},
     "title": ""
    }
   },
   "outputs": [],
   "source": [
    "imp_24.write.format('delta').mode('overwrite').saveAsTable('dbk_brigadeiro.bronze.tb_importacao24')\n",
    "imp_25.write.format('delta').mode('overwrite').saveAsTable('dbk_brigadeiro.bronze.tb_importacao25')"
   ]
  },
  {
   "cell_type": "code",
   "execution_count": 0,
   "metadata": {
    "application/vnd.databricks.v1+cell": {
     "cellMetadata": {
      "byteLimit": 2048000,
      "rowLimit": 10000
     },
     "inputWidgets": {},
     "nuid": "d7104b45-cb94-4b52-97ce-add586b8675d",
     "showTitle": false,
     "tableResultSettingsMap": {},
     "title": ""
    }
   },
   "outputs": [],
   "source": [
    "produtos.write.format('delta').mode('overwrite').saveAsTable('dbk_brigadeiro.bronze.tb_produtos')\n",
    "\n",
    "bloco.write.format('delta').mode('overwrite').saveAsTable('dbk_brigadeiro.bronze.tb_blocoeconomico')\n",
    "\n",
    "paises.write.format('delta').mode('overwrite').saveAsTable('dbk_brigadeiro.bronze.tb_paises')\n",
    "\n",
    "mun.write.format('delta').mode('overwrite').saveAsTable('dbk_brigadeiro.bronze.tb_municipios')\n",
    "\n",
    "urf.write.format('delta').mode('overwrite').saveAsTable('dbk_brigadeiro.bronze.tb_urf')\n",
    "\n",
    "via.write.format('delta').mode('overwrite').saveAsTable('dbk_brigadeiro.bronze.tb_via')"
   ]
  },
  {
   "cell_type": "code",
   "execution_count": 0,
   "metadata": {
    "application/vnd.databricks.v1+cell": {
     "cellMetadata": {
      "byteLimit": 2048000,
      "rowLimit": 10000
     },
     "inputWidgets": {},
     "nuid": "7ffcfacb-ba79-4339-b239-2db3b1526e4f",
     "showTitle": false,
     "tableResultSettingsMap": {},
     "title": ""
    }
   },
   "outputs": [],
   "source": []
  }
 ],
 "metadata": {
  "application/vnd.databricks.v1+notebook": {
   "computePreferences": null,
   "dashboards": [],
   "environmentMetadata": {
    "base_environment": "",
    "environment_version": "1"
   },
   "inputWidgetPreferences": null,
   "language": "python",
   "notebookMetadata": {
    "pythonIndentUnit": 4
   },
   "notebookName": "Comercio_Exterior_Bronze",
   "widgets": {}
  },
  "language_info": {
   "name": "python"
  }
 },
 "nbformat": 4,
 "nbformat_minor": 0
}
