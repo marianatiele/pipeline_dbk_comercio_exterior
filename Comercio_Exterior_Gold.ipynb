{
 "cells": [
  {
   "cell_type": "markdown",
   "metadata": {
    "application/vnd.databricks.v1+cell": {
     "cellMetadata": {},
     "inputWidgets": {},
     "nuid": "a2080540-791c-4750-b9c5-b1645b9fe6b9",
     "showTitle": false,
     "tableResultSettingsMap": {},
     "title": ""
    }
   },
   "source": [
    "## Camada Gold\n",
    "Enriquecer a tebala de Expotação e Importação com dados de Estados, Municipios, Produtos, Via. E disponibilizar para no **formato Delta**."
   ]
  },
  {
   "cell_type": "code",
   "execution_count": 0,
   "metadata": {
    "application/vnd.databricks.v1+cell": {
     "cellMetadata": {
      "byteLimit": 2048000,
      "rowLimit": 10000
     },
     "inputWidgets": {},
     "nuid": "891b3eaf-18db-4119-a04a-4607e45f7566",
     "showTitle": false,
     "tableResultSettingsMap": {},
     "title": ""
    }
   },
   "outputs": [],
   "source": [
    "spark.sql(\"\"\"\n",
    "          show tables in etl_comercioexterior\n",
    "          \"\"\").show()"
   ]
  },
  {
   "cell_type": "code",
   "execution_count": 0,
   "metadata": {
    "application/vnd.databricks.v1+cell": {
     "cellMetadata": {
      "byteLimit": 2048000,
      "rowLimit": 10000
     },
     "inputWidgets": {},
     "nuid": "bde1f981-17c3-4f5f-9ace-f99096d09714",
     "showTitle": false,
     "tableResultSettingsMap": {},
     "title": ""
    }
   },
   "outputs": [],
   "source": [
    "# Path dos dados camada SILVER\n",
    "path_exp24 = 'dbk_brigadeiro.etl_comercioexterior.tb_importacao25S'\n",
    "path_exp25 = 'dbk_brigadeiro.etl_comercioexterior.tb_exportacao25s'\n",
    "\n",
    "path_imp24  = 'dbk_brigadeiro.etl_comercioexterior.tb_importacao24s'\n",
    "path_imp25 = 'dbk_brigadeiro.etl_comercioexterior.tb_importacao25s'\n",
    "\n",
    "path_produtos = 'dbk_brigadeiro.etl_comercioexterior.tb_produtos'\n",
    "path_bloco =   'dbk_brigadeiro.etl_comercioexterior.tb_blocos'\n",
    "path_paises = 'dbk_brigadeiro.etl_comercioexterior.tb_paises'\n",
    "path_municipios = 'dbk_brigadeiro.etl_comercioexterior.tb_municipios'\n",
    "path_urf = 'dbk_brigadeiro.etl_comercioexterior.tb_urfs'\n",
    "path_via = 'dbk_brigadeiro.etl_comercioexterior.tb_vias'\n",
    "\n"
   ]
  },
  {
   "cell_type": "code",
   "execution_count": 0,
   "metadata": {
    "application/vnd.databricks.v1+cell": {
     "cellMetadata": {
      "byteLimit": 2048000,
      "rowLimit": 10000
     },
     "inputWidgets": {},
     "nuid": "12e2d141-e571-459f-b309-c981c5ca571e",
     "showTitle": false,
     "tableResultSettingsMap": {},
     "title": ""
    }
   },
   "outputs": [],
   "source": [
    "tb_importacao24 = spark.read.table(path_imp24)\n",
    "tb_importacao25 = spark.read.table(path_imp25)\n",
    "\n",
    "tb_exportacao24 = spark.read.table(path_exp24)\n",
    "tb_exportacao25 = spark.read.table(path_exp25)"
   ]
  },
  {
   "cell_type": "code",
   "execution_count": 0,
   "metadata": {
    "application/vnd.databricks.v1+cell": {
     "cellMetadata": {
      "byteLimit": 2048000,
      "rowLimit": 10000
     },
     "inputWidgets": {},
     "nuid": "2991eb90-fead-44bf-9725-4ce224f75d8f",
     "showTitle": false,
     "tableResultSettingsMap": {},
     "title": ""
    }
   },
   "outputs": [],
   "source": [
    "tb_exportacao24.show()"
   ]
  },
  {
   "cell_type": "code",
   "execution_count": 0,
   "metadata": {
    "application/vnd.databricks.v1+cell": {
     "cellMetadata": {
      "byteLimit": 2048000,
      "rowLimit": 10000
     },
     "inputWidgets": {},
     "nuid": "e1dfe06b-2007-4e2e-a39c-1c4564fdd877",
     "showTitle": false,
     "tableResultSettingsMap": {},
     "title": ""
    }
   },
   "outputs": [],
   "source": [
    "tb_bloco = spark.read.table(path_bloco)\n",
    "tb_paises = spark.read.table(path_paises)\n",
    "tb_municipio = spark.read.table(path_municipios)\n",
    "tb_produtos = spark.read.table(path_produtos)\n",
    "tb_urf = spark.read.table(path_urf)\n",
    "tb_via = spark.read.table(path_via)"
   ]
  },
  {
   "cell_type": "code",
   "execution_count": 0,
   "metadata": {
    "application/vnd.databricks.v1+cell": {
     "cellMetadata": {
      "byteLimit": 2048000,
      "rowLimit": 10000
     },
     "inputWidgets": {},
     "nuid": "7056cfe1-fa38-41fe-af96-c7b0717cbe66",
     "showTitle": false,
     "tableResultSettingsMap": {},
     "title": ""
    }
   },
   "outputs": [],
   "source": [
    "tb_urf.show()"
   ]
  },
  {
   "cell_type": "code",
   "execution_count": 0,
   "metadata": {
    "application/vnd.databricks.v1+cell": {
     "cellMetadata": {
      "byteLimit": 2048000,
      "rowLimit": 10000
     },
     "inputWidgets": {},
     "nuid": "4528056f-3ff4-4ec2-8ab0-537ce5b87430",
     "showTitle": false,
     "tableResultSettingsMap": {},
     "title": ""
    }
   },
   "outputs": [],
   "source": [
    "tb_bloco.count(), tb_municipio.count(), tb_paises.count(), tb_produtos.count(), tb_urf.count(), tb_via.count()"
   ]
  },
  {
   "cell_type": "code",
   "execution_count": 0,
   "metadata": {
    "application/vnd.databricks.v1+cell": {
     "cellMetadata": {
      "byteLimit": 2048000,
      "rowLimit": 10000
     },
     "inputWidgets": {},
     "nuid": "8e984e5e-a411-4cb7-bb2d-0acedab4fdc2",
     "showTitle": false,
     "tableResultSettingsMap": {},
     "title": ""
    }
   },
   "outputs": [],
   "source": [
    "tb_paises.show(2)"
   ]
  },
  {
   "cell_type": "code",
   "execution_count": 0,
   "metadata": {
    "application/vnd.databricks.v1+cell": {
     "cellMetadata": {
      "byteLimit": 2048000,
      "rowLimit": 10000
     },
     "inputWidgets": {},
     "nuid": "8501088d-1c09-454a-b5c3-b1e355549dd5",
     "showTitle": false,
     "tableResultSettingsMap": {},
     "title": ""
    }
   },
   "outputs": [],
   "source": [
    "tb_produtos.show(2)"
   ]
  },
  {
   "cell_type": "code",
   "execution_count": 0,
   "metadata": {
    "application/vnd.databricks.v1+cell": {
     "cellMetadata": {
      "byteLimit": 2048000,
      "rowLimit": 10000
     },
     "inputWidgets": {},
     "nuid": "768e804e-8bce-4906-ae28-ee8b75aab21a",
     "showTitle": false,
     "tableResultSettingsMap": {},
     "title": ""
    }
   },
   "outputs": [],
   "source": [
    "tb_municipio.show(2)"
   ]
  },
  {
   "cell_type": "code",
   "execution_count": 0,
   "metadata": {
    "application/vnd.databricks.v1+cell": {
     "cellMetadata": {
      "byteLimit": 2048000,
      "rowLimit": 10000
     },
     "inputWidgets": {},
     "nuid": "35646cc8-ab48-4f16-bf33-4d99fa5be9ea",
     "showTitle": false,
     "tableResultSettingsMap": {},
     "title": ""
    }
   },
   "outputs": [],
   "source": [
    "tb_bloco.show(2)"
   ]
  },
  {
   "cell_type": "code",
   "execution_count": 0,
   "metadata": {
    "application/vnd.databricks.v1+cell": {
     "cellMetadata": {
      "byteLimit": 2048000,
      "rowLimit": 10000
     },
     "inputWidgets": {},
     "nuid": "53f4e30f-884d-40ef-af17-253e174212fd",
     "showTitle": false,
     "tableResultSettingsMap": {},
     "title": ""
    }
   },
   "outputs": [],
   "source": [
    "tb_exportacao24.show(2)"
   ]
  },
  {
   "cell_type": "code",
   "execution_count": 0,
   "metadata": {
    "application/vnd.databricks.v1+cell": {
     "cellMetadata": {
      "byteLimit": 2048000,
      "rowLimit": 10000
     },
     "inputWidgets": {},
     "nuid": "b8c2ed0c-c730-4603-b383-50cc5b23824a",
     "showTitle": false,
     "tableResultSettingsMap": {},
     "title": ""
    }
   },
   "outputs": [],
   "source": [
    "tb_importacao24.show(2)"
   ]
  },
  {
   "cell_type": "code",
   "execution_count": 0,
   "metadata": {
    "application/vnd.databricks.v1+cell": {
     "cellMetadata": {
      "byteLimit": 2048000,
      "rowLimit": 10000
     },
     "inputWidgets": {},
     "nuid": "d693eda6-a8fb-4a62-9e5f-090fcadf378d",
     "showTitle": false,
     "tableResultSettingsMap": {},
     "title": ""
    }
   },
   "outputs": [],
   "source": [
    "tb_importacao24.createOrReplaceTempView('tb_importacao24')\n",
    "tb_importacao25.createOrReplaceTempView('tb_importacao25')\n",
    "tb_exportacao24.createOrReplaceTempView('tb_exportacao24')\n",
    "tb_exportacao25.createOrReplaceTempView('tb_exportacao25')\n",
    "tb_bloco.createOrReplaceTempView('tb_bloco')\n",
    "tb_via.createOrReplaceTempView('tb_via')\n",
    "tb_municipio.createOrReplaceTempView('tb_municipios')\n",
    "tb_paises.createOrReplaceTempView('tb_paises')\n",
    "tb_produtos.createOrReplaceTempView('tb_produtos')\n",
    "tb_urf.createOrReplaceTempView('tb_urf')"
   ]
  },
  {
   "cell_type": "code",
   "execution_count": 0,
   "metadata": {
    "application/vnd.databricks.v1+cell": {
     "cellMetadata": {
      "byteLimit": 2048000,
      "rowLimit": 10000
     },
     "inputWidgets": {},
     "nuid": "3af7c120-82d5-4141-9102-20deb08b27d5",
     "showTitle": false,
     "tableResultSettingsMap": {},
     "title": ""
    }
   },
   "outputs": [],
   "source": [
    "tb_municipio.show(2)"
   ]
  },
  {
   "cell_type": "code",
   "execution_count": 0,
   "metadata": {
    "application/vnd.databricks.v1+cell": {
     "cellMetadata": {
      "byteLimit": 2048000,
      "rowLimit": 10000
     },
     "inputWidgets": {},
     "nuid": "a1c694ed-9e22-4832-8b9e-d860d96fb768",
     "showTitle": false,
     "tableResultSettingsMap": {},
     "title": ""
    }
   },
   "outputs": [],
   "source": [
    "tb_exportacao24_final = spark.sql(\"\"\"\n",
    "          SELECT e.COD_ANO, e.COD_MES, e.COD_PRODUTO, P.PRODUTO, e.COD_UNID, e.COD_PAIS, pa.PAIS, \n",
    "          e.UF_O_PRODUTO, M.CIDADE, e.COD_VIA, v.VIA, e.COD_URF, U.URF, e.QTD_ESTAT, e.KG_LIQUIDO,\n",
    "          e.VL_FOB, B.BLOCO\n",
    "          FROM tb_exportacao24 e\n",
    "          JOIN tb_produtos p\n",
    "          on p.COD_PRODUTO = e.COD_PRODUTO\n",
    "          JOIN tb_via v ON v.COD_VIA = e.COD_VIA\n",
    "          JOIN tb_paises pa on pa.COD_PAIS = e.COD_PAIS\n",
    "          JOIN tb_bloco B ON B.COD_PAIS  = e.COD_PAIS\n",
    "          JOIN tb_urf U on U.COD_URF = e.COD_URF\n",
    "          JOIN tb_municipios M ON M.UF = e.UF_O_PRODUTO\n",
    "          WHERE pa.PAIS <> 'Brasil'\n",
    "          \"\"\")"
   ]
  },
  {
   "cell_type": "code",
   "execution_count": 0,
   "metadata": {
    "application/vnd.databricks.v1+cell": {
     "cellMetadata": {
      "byteLimit": 2048000,
      "rowLimit": 10000
     },
     "inputWidgets": {},
     "nuid": "58c7a7ba-a6b3-4e19-9b54-01c8080e54d8",
     "showTitle": false,
     "tableResultSettingsMap": {},
     "title": ""
    }
   },
   "outputs": [],
   "source": [
    "tb_exportacao25_final = spark.sql(\"\"\"\n",
    "          SELECT e.COD_ANO, e.COD_MES, e.COD_PRODUTO, P.PRODUTO, e.COD_UNID, e.COD_PAIS, pa.PAIS, \n",
    "          e.UF_O_PRODUTO, M.CIDADE, e.COD_VIA, v.VIA, e.COD_URF, U.URF, e.QTD_ESTAT, e.KG_LIQUIDO,\n",
    "          e.VL_FOB, B.BLOCO\n",
    "          FROM tb_exportacao25 e\n",
    "          JOIN tb_produtos p\n",
    "          on p.COD_PRODUTO = e.COD_PRODUTO\n",
    "          JOIN tb_via v ON v.COD_VIA = e.COD_VIA\n",
    "          JOIN tb_paises pa on pa.COD_PAIS = e.COD_PAIS\n",
    "          JOIN tb_bloco B ON B.COD_PAIS  = e.COD_PAIS\n",
    "          JOIN tb_urf U on U.COD_URF = e.COD_URF\n",
    "          JOIN tb_municipios M ON M.UF = e.UF_O_PRODUTO\n",
    "          WHERE pa.PAIS <> 'Brasil'\n",
    "          \"\"\")\n"
   ]
  },
  {
   "cell_type": "code",
   "execution_count": 0,
   "metadata": {
    "application/vnd.databricks.v1+cell": {
     "cellMetadata": {
      "byteLimit": 2048000,
      "rowLimit": 10000
     },
     "inputWidgets": {},
     "nuid": "4b1b80a3-84ae-4685-a42c-8f39895d1016",
     "showTitle": false,
     "tableResultSettingsMap": {},
     "title": ""
    }
   },
   "outputs": [],
   "source": [
    "tb_importacao24_final = spark.sql(\"\"\"\n",
    "          SELECT i.COD_ANO, i.COD_MES, i.COD_PRODUTO, p.PRODUTO, i.COD_UNID, i.COD_PAIS, pa.PAIS, \n",
    "          i.UF_O_PRODUTO, M.CIDADE, i.COD_VIA, v.VIA, i.COD_URF, U.URF, i.QTD_ESTAT, i.KG_LIQUIDO,\n",
    "          i.VL_FOB, i.VL_FRETE, i.VL_SEGURO, B.BLOCO\n",
    "          FROM tb_importacao24 i\n",
    "          JOIN tb_produtos p\n",
    "          on p.COD_PRODUTO = i.COD_PRODUTO\n",
    "          JOIN tb_via v ON v.COD_VIA = i.COD_VIA\n",
    "          JOIN tb_paises pa on pa.COD_PAIS = i.COD_PAIS\n",
    "          JOIN tb_bloco B ON B.COD_PAIS  = i.COD_PAIS\n",
    "          JOIN tb_urf U on U.COD_URF = i.COD_URF\n",
    "          JOIN tb_municipios M ON M.UF = i.UF_O_PRODUTO\n",
    "          WHERE pa.PAIS <> 'Brasil'\n",
    "          \"\"\")"
   ]
  },
  {
   "cell_type": "code",
   "execution_count": 0,
   "metadata": {
    "application/vnd.databricks.v1+cell": {
     "cellMetadata": {
      "byteLimit": 2048000,
      "rowLimit": 10000
     },
     "inputWidgets": {},
     "nuid": "d0f9c288-2c52-487d-a98e-24eadd3a8645",
     "showTitle": false,
     "tableResultSettingsMap": {},
     "title": ""
    }
   },
   "outputs": [],
   "source": [
    "tb_importacao25_final = spark.sql(\"\"\"\n",
    "          SELECT i.COD_ANO, i.COD_MES, i.COD_PRODUTO, p.PRODUTO, i.COD_UNID, i.COD_PAIS, pa.PAIS, \n",
    "          i.UF_O_PRODUTO, M.CIDADE, i.COD_VIA, v.VIA, i.COD_URF, U.URF, i.QTD_ESTAT, i.KG_LIQUIDO,\n",
    "          i.VL_FOB, i.VL_FRETE, i.VL_SEGURO, B.BLOCO\n",
    "          FROM tb_importacao25 i\n",
    "          JOIN tb_produtos p\n",
    "          on p.COD_PRODUTO = i.COD_PRODUTO\n",
    "          JOIN tb_via v ON v.COD_VIA = i.COD_VIA\n",
    "          JOIN tb_paises pa on pa.COD_PAIS = i.COD_PAIS\n",
    "          JOIN tb_bloco B ON B.COD_PAIS  = i.COD_PAIS\n",
    "          JOIN tb_urf U on U.COD_URF = i.COD_URF\n",
    "          JOIN tb_municipios M ON M.UF = i.UF_O_PRODUTO\n",
    "          WHERE pa.PAIS <> 'Brasil'\n",
    "          \"\"\")"
   ]
  },
  {
   "cell_type": "code",
   "execution_count": 0,
   "metadata": {
    "application/vnd.databricks.v1+cell": {
     "cellMetadata": {
      "byteLimit": 2048000,
      "rowLimit": 10000
     },
     "inputWidgets": {},
     "nuid": "3e0e35a7-d9c5-4424-946c-ef2642d7abde",
     "showTitle": false,
     "tableResultSettingsMap": {},
     "title": ""
    }
   },
   "outputs": [],
   "source": [
    "tb_importacao24.show(2)"
   ]
  },
  {
   "cell_type": "code",
   "execution_count": 0,
   "metadata": {
    "application/vnd.databricks.v1+cell": {
     "cellMetadata": {
      "byteLimit": 2048000,
      "rowLimit": 10000
     },
     "inputWidgets": {},
     "nuid": "99b580da-4193-4453-9ed9-40e5d3b8fcb7",
     "showTitle": false,
     "tableResultSettingsMap": {},
     "title": ""
    }
   },
   "outputs": [],
   "source": [
    "tb_exportacao24_final.printSchema()"
   ]
  },
  {
   "cell_type": "code",
   "execution_count": 0,
   "metadata": {
    "application/vnd.databricks.v1+cell": {
     "cellMetadata": {},
     "inputWidgets": {},
     "nuid": "b671c950-185c-4b68-b568-d047f3b060cb",
     "showTitle": false,
     "tableResultSettingsMap": {},
     "title": ""
    }
   },
   "outputs": [],
   "source": [
    "# dbk_brigadeiro.etl_comercioexterior."
   ]
  },
  {
   "cell_type": "code",
   "execution_count": 0,
   "metadata": {
    "application/vnd.databricks.v1+cell": {
     "cellMetadata": {
      "byteLimit": 2048000,
      "rowLimit": 10000
     },
     "inputWidgets": {},
     "nuid": "a9a0d1be-73f9-49d9-a8ab-f32207606727",
     "showTitle": false,
     "tableResultSettingsMap": {},
     "title": ""
    }
   },
   "outputs": [],
   "source": [
    "display(tb_importacao24_final)"
   ]
  },
  {
   "cell_type": "code",
   "execution_count": 0,
   "metadata": {
    "application/vnd.databricks.v1+cell": {
     "cellMetadata": {
      "byteLimit": 2048000,
      "rowLimit": 10000
     },
     "inputWidgets": {},
     "nuid": "4d326554-61d0-4ee2-b31a-349db660a0fd",
     "showTitle": false,
     "tableResultSettingsMap": {},
     "title": ""
    }
   },
   "outputs": [],
   "source": [
    "spark.sql(\"\"\"\n",
    "          show tables in etl_comercioexterior\n",
    "          \"\"\").show()"
   ]
  },
  {
   "cell_type": "code",
   "execution_count": 0,
   "metadata": {
    "application/vnd.databricks.v1+cell": {
     "cellMetadata": {
      "byteLimit": 2048000,
      "rowLimit": 10000
     },
     "inputWidgets": {},
     "nuid": "19a597bd-833a-4d22-a48c-d8c39e240887",
     "showTitle": false,
     "tableResultSettingsMap": {},
     "title": ""
    }
   },
   "outputs": [],
   "source": [
    "# tb_importacao24_final.write.format('delta').mode('overwrite').saveAsTable('tb_umportacao24_final')"
   ]
  }
 ],
 "metadata": {
  "application/vnd.databricks.v1+notebook": {
   "computePreferences": {
    "hardware": {
     "accelerator": null,
     "gpuPoolId": null,
     "memory": null
    }
   },
   "dashboards": [
    {
     "elements": [],
     "globalVars": {},
     "guid": "",
     "layoutOption": {
      "grid": true,
      "stack": true
     },
     "nuid": "58cfe696-3834-44d4-af5a-be19cb63d4e5",
     "origId": 8117893160253685,
     "title": "Painel_Comercio_Exterior",
     "version": "DashboardViewV1",
     "width": 1024
    }
   ],
   "environmentMetadata": {
    "base_environment": "",
    "environment_version": "1"
   },
   "inputWidgetPreferences": null,
   "language": "python",
   "notebookMetadata": {
    "mostRecentlyExecutedCommandWithImplicitDF": {
     "commandId": 3367970156237856,
     "dataframes": [
      "_sqldf"
     ]
    },
    "pythonIndentUnit": 4
   },
   "notebookName": "Comercio_Exterior_Gold",
   "widgets": {}
  },
  "language_info": {
   "name": "python"
  }
 },
 "nbformat": 4,
 "nbformat_minor": 0
}
